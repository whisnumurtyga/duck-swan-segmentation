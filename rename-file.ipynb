{
 "cells": [
  {
   "cell_type": "code",
   "execution_count": 25,
   "metadata": {},
   "outputs": [],
   "source": [
    "import os\n",
    "from collections import defaultdict"
   ]
  },
  {
   "cell_type": "code",
   "execution_count": 30,
   "metadata": {},
   "outputs": [
    {
     "name": "stdout",
     "output_type": "stream",
     "text": [
      "defaultdict(<class 'int'>, {'duck': 96, 'swan': 99})\n"
     ]
    }
   ],
   "source": [
    "sub_folders = defaultdict(int)\n",
    "\n",
    "def list_files(startpath):\n",
    "    global sub_folders\n",
    "\n",
    "    for root, dirs, files in os.walk(startpath):\n",
    "        sub_folder_name = root.split(\"\\\\\")[-1]\n",
    "        for file in files:\n",
    "            file_ekstension = file.split(\".\")[-1]\n",
    "            old_file_path = os.path.join(root, file)\n",
    "\n",
    "            new_file_name = f\"{sub_folder_name}_{sub_folders[sub_folder_name]}.{file_ekstension}\"\n",
    "            new_file_path = os.path.join(root, new_file_name)\n",
    "\n",
    "            os.rename(old_file_path, new_file_path)\n",
    "            sub_folders[sub_folder_name] += 1\n",
    "            \n",
    "    \n",
    "    print(sub_folders)\n",
    "# Ganti 'path_folder' dengan path folder yang ingin Anda telusuri\n",
    "folder_path = 'datasets'\n",
    "list_files(folder_path)\n"
   ]
  }
 ],
 "metadata": {
  "kernelspec": {
   "display_name": "viskom",
   "language": "python",
   "name": "python3"
  },
  "language_info": {
   "codemirror_mode": {
    "name": "ipython",
    "version": 3
   },
   "file_extension": ".py",
   "mimetype": "text/x-python",
   "name": "python",
   "nbconvert_exporter": "python",
   "pygments_lexer": "ipython3",
   "version": "3.7.16"
  }
 },
 "nbformat": 4,
 "nbformat_minor": 2
}
