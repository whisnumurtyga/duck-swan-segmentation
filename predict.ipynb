{
 "cells": [
  {
   "cell_type": "code",
   "execution_count": 14,
   "metadata": {},
   "outputs": [],
   "source": [
    "from ultralytics import YOLO\n",
    "\n",
    "import matplotlib.pyplot as plt \n",
    "import seaborn as sns \n",
    "import os \n",
    "import cv2\n",
    "import numpy as np"
   ]
  },
  {
   "cell_type": "code",
   "execution_count": 17,
   "metadata": {},
   "outputs": [
    {
     "name": "stderr",
     "output_type": "stream",
     "text": [
      "\n",
      "0: 448x640 1 duck, 248.9ms\n",
      "Speed: 7.7ms preprocess, 248.9ms inference, 8.3ms postprocess per image at shape (1, 3, 448, 640)\n"
     ]
    }
   ],
   "source": [
    "model_path = \"./segment/train/weights/best.pt\"\n",
    "\n",
    "image_path = \"./datasets/all/duck_0.jpeg\"\n",
    "\n",
    "img = cv2.imread(image_path)\n",
    "H, W, _ = img.shape\n",
    "\n",
    "model = YOLO(model_path)\n",
    "results = model(img)\n",
    "\n",
    "for result in results:\n",
    "    for j, mask in enumerate(result.masks.data):\n",
    "        # print(mask)\n",
    "        mask = mask.numpy() * 255\n",
    "        mask = cv2.resize(mask, (W, H))\n",
    "        cv2.imwrite('./output.png', mask)"
   ]
  },
  {
   "cell_type": "code",
   "execution_count": 26,
   "metadata": {},
   "outputs": [
    {
     "data": {
      "text/plain": [
       "True"
      ]
     },
     "execution_count": 26,
     "metadata": {},
     "output_type": "execute_result"
    }
   ],
   "source": [
    "import cv2\n",
    "\n",
    "def combine_images(img, mask):\n",
    "    # Resize mask if necessary\n",
    "    if mask.shape[:2] != img.shape[:2]:\n",
    "        mask = cv2.resize(mask, (img.shape[1], img.shape[0]))\n",
    "\n",
    "    # Convert mask to RGB if necessary\n",
    "    if len(mask.shape) == 2:\n",
    "        mask = cv2.cvtColor(mask, cv2.COLOR_GRAY2BGR)\n",
    "\n",
    "    # Add the images with weights\n",
    "    output = cv2.addWeighted(img, 0.8, mask, 0.2, 0)\n",
    "\n",
    "    return output\n",
    "\n",
    "img = cv2.imread(image_path)\n",
    "mask = cv2.imread(\"./output.png\")\n",
    "\n",
    "output = combine_images(img, mask)\n",
    "\n",
    "cv2.imwrite(\"./combined.png\", output)\n"
   ]
  },
  {
   "cell_type": "code",
   "execution_count": 31,
   "metadata": {},
   "outputs": [
    {
     "name": "stderr",
     "output_type": "stream",
     "text": [
      "\n",
      "0: 640x640 1 duck, 278.5ms\n",
      "Speed: 15.6ms preprocess, 278.5ms inference, 15.6ms postprocess per image at shape (1, 3, 640, 640)\n"
     ]
    },
    {
     "data": {
      "text/plain": [
       "True"
      ]
     },
     "execution_count": 31,
     "metadata": {},
     "output_type": "execute_result"
    }
   ],
   "source": [
    "import cv2\n",
    "import numpy as np\n",
    "from ultralytics import YOLO  # Pastikan modul YOLO Anda diimport dengan benar\n",
    "\n",
    "model_path = \"./segment/train/weights/best.pt\"\n",
    "# image_path = \"./datasets/all/duck_0.jpeg\"\n",
    "image_path = \"./testing/bebek_putih.webp\"\n",
    "\n",
    "img = cv2.imread(image_path)\n",
    "H, W, _ = img.shape\n",
    "\n",
    "model = YOLO(model_path)\n",
    "results = model(img)\n",
    "\n",
    "# Membuat array kosong untuk menyimpan semua masker\n",
    "all_masks = []\n",
    "\n",
    "for result in results:\n",
    "    for j, mask in enumerate(result.masks.data):\n",
    "        mask = mask.numpy() * 255\n",
    "        mask = cv2.resize(mask, (img.shape[1], img.shape[0]))\n",
    "\n",
    "        # Mengubah warna masker\n",
    "        colored_mask = np.zeros((H, W, 3), dtype=np.uint8)\n",
    "        colored_mask[mask > 0] = [0, 0, 255]  # Ganti warna di sini, misalnya [0, 255, 0] menjadi [255, 0, 0] untuk warna biru\n",
    "\n",
    "        all_masks.append(colored_mask)\n",
    "\n",
    "# Menggabungkan semua masker ke dalam satu gambar\n",
    "combined_mask = np.zeros((H, W, 3), dtype=np.uint8)\n",
    "for mask in all_masks:\n",
    "    combined_mask = cv2.bitwise_or(combined_mask, mask)\n",
    "\n",
    "# Menggabungkan gambar asli dengan hasil segmentasi\n",
    "result_image = cv2.bitwise_or(img, combined_mask)\n",
    "\n",
    "# Menyimpan gambar yang telah digabungkan\n",
    "cv2.imwrite('./output_combined_colored.png', result_image)\n"
   ]
  }
 ],
 "metadata": {
  "kernelspec": {
   "display_name": "viskom",
   "language": "python",
   "name": "python3"
  },
  "language_info": {
   "codemirror_mode": {
    "name": "ipython",
    "version": 3
   },
   "file_extension": ".py",
   "mimetype": "text/x-python",
   "name": "python",
   "nbconvert_exporter": "python",
   "pygments_lexer": "ipython3",
   "version": "3.7.16"
  }
 },
 "nbformat": 4,
 "nbformat_minor": 2
}
